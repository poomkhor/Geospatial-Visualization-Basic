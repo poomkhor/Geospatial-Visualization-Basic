{
 "cells": [
  {
   "cell_type": "code",
   "execution_count": 2,
   "metadata": {},
   "outputs": [],
   "source": [
    "import geopandas as geo"
   ]
  },
  {
   "cell_type": "code",
   "execution_count": 2,
   "metadata": {},
   "outputs": [
    {
     "data": {
      "text/html": [
       "<div>\n",
       "<style scoped>\n",
       "    .dataframe tbody tr th:only-of-type {\n",
       "        vertical-align: middle;\n",
       "    }\n",
       "\n",
       "    .dataframe tbody tr th {\n",
       "        vertical-align: top;\n",
       "    }\n",
       "\n",
       "    .dataframe thead th {\n",
       "        text-align: right;\n",
       "    }\n",
       "</style>\n",
       "<table border=\"1\" class=\"dataframe\">\n",
       "  <thead>\n",
       "    <tr style=\"text-align: right;\">\n",
       "      <th></th>\n",
       "      <th>OBJECTID</th>\n",
       "      <th>AREA</th>\n",
       "      <th>dcode</th>\n",
       "      <th>dname</th>\n",
       "      <th>dname_e</th>\n",
       "      <th>pcode</th>\n",
       "      <th>no_female</th>\n",
       "      <th>pname</th>\n",
       "      <th>no_male</th>\n",
       "      <th>no_health</th>\n",
       "      <th>no_temple</th>\n",
       "      <th>no_commu</th>\n",
       "      <th>no_hos</th>\n",
       "      <th>no_sch</th>\n",
       "      <th>geometry</th>\n",
       "    </tr>\n",
       "  </thead>\n",
       "  <tbody>\n",
       "    <tr>\n",
       "      <th>0</th>\n",
       "      <td>29</td>\n",
       "      <td>11804564.0</td>\n",
       "      <td>1025</td>\n",
       "      <td>à¢µºÒ§¾ÅÑ´</td>\n",
       "      <td>Bang Phlat</td>\n",
       "      <td>10</td>\n",
       "      <td>53750</td>\n",
       "      <td>¡ÃØ§à·¾ÁËÒ¹¤Ã</td>\n",
       "      <td>46569</td>\n",
       "      <td>1</td>\n",
       "      <td>23</td>\n",
       "      <td>46</td>\n",
       "      <td>0</td>\n",
       "      <td>11</td>\n",
       "      <td>POLYGON ((663924.794 1526162.057, 663895.856 1...</td>\n",
       "    </tr>\n",
       "    <tr>\n",
       "      <th>1</th>\n",
       "      <td>30</td>\n",
       "      <td>16319268.0</td>\n",
       "      <td>1017</td>\n",
       "      <td>à¢µËéÇÂ¢ÇÒ§</td>\n",
       "      <td>Huai Khwang</td>\n",
       "      <td>10</td>\n",
       "      <td>42026</td>\n",
       "      <td>¡ÃØ§à·¾ÁËÒ¹¤Ã</td>\n",
       "      <td>35694</td>\n",
       "      <td>2</td>\n",
       "      <td>3</td>\n",
       "      <td>25</td>\n",
       "      <td>0</td>\n",
       "      <td>3</td>\n",
       "      <td>POLYGON ((671711.864 1526487.438, 671710.552 1...</td>\n",
       "    </tr>\n",
       "    <tr>\n",
       "      <th>2</th>\n",
       "      <td>31</td>\n",
       "      <td>17075578.0</td>\n",
       "      <td>1045</td>\n",
       "      <td>à¢µÇÑ§·Í§ËÅÒ§</td>\n",
       "      <td>Wang Thong Lang</td>\n",
       "      <td>10</td>\n",
       "      <td>62158</td>\n",
       "      <td>¡ÃØ§à·¾ÁËÒ¹¤Ã</td>\n",
       "      <td>52925</td>\n",
       "      <td>0</td>\n",
       "      <td>1</td>\n",
       "      <td>19</td>\n",
       "      <td>0</td>\n",
       "      <td>3</td>\n",
       "      <td>POLYGON ((674358.118 1525633.939, 674369.430 1...</td>\n",
       "    </tr>\n",
       "    <tr>\n",
       "      <th>3</th>\n",
       "      <td>32</td>\n",
       "      <td>51732144.0</td>\n",
       "      <td>1048</td>\n",
       "      <td>à¢µ·ÇÕÇÑ²¹Ò</td>\n",
       "      <td>Thawi Watthana</td>\n",
       "      <td>10</td>\n",
       "      <td>40264</td>\n",
       "      <td>¡ÃØ§à·¾ÁËÒ¹¤Ã</td>\n",
       "      <td>35196</td>\n",
       "      <td>1</td>\n",
       "      <td>3</td>\n",
       "      <td>13</td>\n",
       "      <td>0</td>\n",
       "      <td>6</td>\n",
       "      <td>POLYGON ((650975.092 1526253.298, 651115.593 1...</td>\n",
       "    </tr>\n",
       "    <tr>\n",
       "      <th>4</th>\n",
       "      <td>33</td>\n",
       "      <td>128628048.0</td>\n",
       "      <td>1011</td>\n",
       "      <td>à¢µÅÒ´¡ÃÐºÑ§</td>\n",
       "      <td>Lat Krabang</td>\n",
       "      <td>10</td>\n",
       "      <td>83816</td>\n",
       "      <td>¡ÃØ§à·¾ÁËÒ¹¤Ã</td>\n",
       "      <td>77034</td>\n",
       "      <td>2</td>\n",
       "      <td>13</td>\n",
       "      <td>60</td>\n",
       "      <td>1</td>\n",
       "      <td>20</td>\n",
       "      <td>POLYGON ((694058.076 1525667.706, 694060.576 1...</td>\n",
       "    </tr>\n",
       "  </tbody>\n",
       "</table>\n",
       "</div>"
      ],
      "text/plain": [
       "   OBJECTID         AREA dcode          dname          dname_e pcode  \\\n",
       "0        29   11804564.0  1025     à¢µºÒ§¾ÅÑ´       Bang Phlat    10   \n",
       "1        30   16319268.0  1017    à¢µËéÇÂ¢ÇÒ§      Huai Khwang    10   \n",
       "2        31   17075578.0  1045  à¢µÇÑ§·Í§ËÅÒ§  Wang Thong Lang    10   \n",
       "3        32   51732144.0  1048    à¢µ·ÇÕÇÑ²¹Ò   Thawi Watthana    10   \n",
       "4        33  128628048.0  1011   à¢µÅÒ´¡ÃÐºÑ§      Lat Krabang    10   \n",
       "\n",
       "   no_female          pname  no_male  no_health  no_temple  no_commu  no_hos  \\\n",
       "0      53750  ¡ÃØ§à·¾ÁËÒ¹¤Ã    46569          1         23        46       0   \n",
       "1      42026  ¡ÃØ§à·¾ÁËÒ¹¤Ã    35694          2          3        25       0   \n",
       "2      62158  ¡ÃØ§à·¾ÁËÒ¹¤Ã    52925          0          1        19       0   \n",
       "3      40264  ¡ÃØ§à·¾ÁËÒ¹¤Ã    35196          1          3        13       0   \n",
       "4      83816  ¡ÃØ§à·¾ÁËÒ¹¤Ã    77034          2         13        60       1   \n",
       "\n",
       "   no_sch                                           geometry  \n",
       "0      11  POLYGON ((663924.794 1526162.057, 663895.856 1...  \n",
       "1       3  POLYGON ((671711.864 1526487.438, 671710.552 1...  \n",
       "2       3  POLYGON ((674358.118 1525633.939, 674369.430 1...  \n",
       "3       6  POLYGON ((650975.092 1526253.298, 651115.593 1...  \n",
       "4      20  POLYGON ((694058.076 1525667.706, 694060.576 1...  "
      ]
     },
     "execution_count": 2,
     "metadata": {},
     "output_type": "execute_result"
    }
   ],
   "source": [
    "gdf = geo.read_file('Bangkok_shape/district.shp')\n",
    "gdf.head()"
   ]
  },
  {
   "cell_type": "code",
   "execution_count": 3,
   "metadata": {},
   "outputs": [
    {
     "data": {
      "image/png": "[encoded data removed]",
      "text/plain": [
       "<Figure size 432x288 with 2 Axes>"
      ]
     },
     "metadata": {
      "needs_background": "light"
     },
     "output_type": "display_data"
    }
   ],
   "source": [
    "gdf.plot('no_female', legend=True, kind='geo');"
   ]
  },
  {
   "cell_type": "code",
   "execution_count": 4,
   "metadata": {},
   "outputs": [
    {
     "ename": "AttributeError",
     "evalue": "'GeoDataFrame' object has no attribute 'explore'",
     "output_type": "error",
     "traceback": [
      "\u001b[1;31m---------------------------------------------------------------------------\u001b[0m",
      "\u001b[1;31mAttributeError\u001b[0m                            Traceback (most recent call last)",
      "\u001b[1;32mc:\\Users\\poomk\\OneDrive\\Study\\MADS\\SIADS521 Visual Exploration of Data\\WK3\\Assignment 3.ipynb Cell 4'\u001b[0m in \u001b[0;36m<cell line: 1>\u001b[1;34m()\u001b[0m\n\u001b[1;32m----> <a href='vscode-notebook-cell:/c%3A/Users/poomk/OneDrive/Study/MADS/SIADS521%20Visual%20Exploration%20of%20Data/WK3/Assignment%203.ipynb#ch0000003?line=0'>1</a>\u001b[0m gdf\u001b[39m.\u001b[39;49mexplore(\u001b[39m'\u001b[39m\u001b[39mno_female\u001b[39m\u001b[39m'\u001b[39m)\n",
      "File \u001b[1;32m~\\miniconda3\\envs\\dataenv\\lib\\site-packages\\pandas\\core\\generic.py:5487\u001b[0m, in \u001b[0;36mNDFrame.__getattr__\u001b[1;34m(self, name)\u001b[0m\n\u001b[0;32m   <a href='file:///c%3A/Users/poomk/miniconda3/envs/dataenv/lib/site-packages/pandas/core/generic.py?line=5479'>5480</a>\u001b[0m \u001b[39mif\u001b[39;00m (\n\u001b[0;32m   <a href='file:///c%3A/Users/poomk/miniconda3/envs/dataenv/lib/site-packages/pandas/core/generic.py?line=5480'>5481</a>\u001b[0m     name \u001b[39mnot\u001b[39;00m \u001b[39min\u001b[39;00m \u001b[39mself\u001b[39m\u001b[39m.\u001b[39m_internal_names_set\n\u001b[0;32m   <a href='file:///c%3A/Users/poomk/miniconda3/envs/dataenv/lib/site-packages/pandas/core/generic.py?line=5481'>5482</a>\u001b[0m     \u001b[39mand\u001b[39;00m name \u001b[39mnot\u001b[39;00m \u001b[39min\u001b[39;00m \u001b[39mself\u001b[39m\u001b[39m.\u001b[39m_metadata\n\u001b[0;32m   <a href='file:///c%3A/Users/poomk/miniconda3/envs/dataenv/lib/site-packages/pandas/core/generic.py?line=5482'>5483</a>\u001b[0m     \u001b[39mand\u001b[39;00m name \u001b[39mnot\u001b[39;00m \u001b[39min\u001b[39;00m \u001b[39mself\u001b[39m\u001b[39m.\u001b[39m_accessors\n\u001b[0;32m   <a href='file:///c%3A/Users/poomk/miniconda3/envs/dataenv/lib/site-packages/pandas/core/generic.py?line=5483'>5484</a>\u001b[0m     \u001b[39mand\u001b[39;00m \u001b[39mself\u001b[39m\u001b[39m.\u001b[39m_info_axis\u001b[39m.\u001b[39m_can_hold_identifiers_and_holds_name(name)\n\u001b[0;32m   <a href='file:///c%3A/Users/poomk/miniconda3/envs/dataenv/lib/site-packages/pandas/core/generic.py?line=5484'>5485</a>\u001b[0m ):\n\u001b[0;32m   <a href='file:///c%3A/Users/poomk/miniconda3/envs/dataenv/lib/site-packages/pandas/core/generic.py?line=5485'>5486</a>\u001b[0m     \u001b[39mreturn\u001b[39;00m \u001b[39mself\u001b[39m[name]\n\u001b[1;32m-> <a href='file:///c%3A/Users/poomk/miniconda3/envs/dataenv/lib/site-packages/pandas/core/generic.py?line=5486'>5487</a>\u001b[0m \u001b[39mreturn\u001b[39;00m \u001b[39mobject\u001b[39;49m\u001b[39m.\u001b[39;49m\u001b[39m__getattribute__\u001b[39;49m(\u001b[39mself\u001b[39;49m, name)\n",
      "\u001b[1;31mAttributeError\u001b[0m: 'GeoDataFrame' object has no attribute 'explore'"
     ]
    }
   ],
   "source": [
    "gdf.explore('no_female')"
   ]
  },
  {
   "cell_type": "code",
   "execution_count": 3,
   "metadata": {},
   "outputs": [
    {
     "data": {
      "text/plain": [
       "'0.9.0'"
      ]
     },
     "execution_count": 3,
     "metadata": {},
     "output_type": "execute_result"
    }
   ],
   "source": [
    "geo.__version__"
   ]
  },
  {
   "cell_type": "code",
   "execution_count": 6,
   "metadata": {},
   "outputs": [
    {
     "name": "stdout",
     "output_type": "stream",
     "text": [
      "Collecting package metadata (repodata.json): ...working... done\n",
      "Solving environment: ...working... done\n",
      "\n",
      "## Package Plan ##\n",
      "\n",
      "  environment location: C:\\Users\\poomk\\miniconda3\\envs\\dataenv\n",
      "\n",
      "  removed specs:\n",
      "    - geopandas\n",
      "\n",
      "\n",
      "The following packages will be REMOVED:\n",
      "\n",
      "  aws-c-common-0.4.57-ha925a31_1\n",
      "  aws-c-event-stream-0.1.6-hd77b12b_5\n",
      "  aws-checksums-0.1.9-ha925a31_0\n",
      "  aws-sdk-cpp-1.8.185-hd77b12b_0\n",
      "  bzip2-1.0.8-he774522_0\n",
      "  cfitsio-3.470-he774522_6\n",
      "  click-7.1.2-pyhd3eb1b0_0\n",
      "  click-plugins-1.1.1-pyhd3eb1b0_0\n",
      "  cligj-0.7.2-py39haa95532_0\n",
      "  curl-7.80.0-h2bbff1b_0\n",
      "  expat-2.4.4-h6c2663c_0\n",
      "  fiona-1.8.13.post1-py39h758c064_0\n",
      "  freexl-1.0.6-h2bbff1b_0\n",
      "  gdal-3.0.2-py39hb978731_2\n",
      "  geopandas-0.9.0-py_1\n",
      "  geopandas-base-0.9.0-py_1\n",
      "  geos-3.8.0-h33f27b4_0\n",
      "  geotiff-1.7.0-h4545760_0\n",
      "  hdf4-4.2.13-h712560f_2\n",
      "  hdf5-1.10.6-h7ebc959_0\n",
      "  joblib-1.1.0-pyhd3eb1b0_0\n",
      "  kealib-1.4.14-hde4a422_1\n",
      "  krb5-1.19.2-h5b6d351_0\n",
      "  libcurl-7.80.0-h86230a5_0\n",
      "  libgdal-3.0.2-h3d7c30d_2\n",
      "  libiconv-1.15-h1df5818_7\n",
      "  libnetcdf-4.8.1-h6685c40_1\n",
      "  libpq-12.9-hb652d5d_1\n",
      "  libspatialindex-1.9.3-h6c2663c_0\n",
      "  libspatialite-4.3.0a-h14feca5_20\n",
      "  libssh2-1.9.0-h7a1dbc1_1\n",
      "  libxml2-2.9.12-h0ad7f3c_0\n",
      "  libzip-1.5.1-h05fb217_1003\n",
      "  m2w64-expat-2.1.1-2\n",
      "  m2w64-gcc-libgfortran-5.3.0-6\n",
      "  m2w64-gcc-libs-5.3.0-7\n",
      "  m2w64-gcc-libs-core-5.3.0-7\n",
      "  m2w64-gettext-0.19.7-2\n",
      "  m2w64-gmp-6.1.0-2\n",
      "  m2w64-libiconv-1.14-6\n",
      "  m2w64-libwinpthread-git-5.0.0.4634.697f757-2\n",
      "  m2w64-xz-5.2.2-2\n",
      "  mapclassify-2.4.3-pyhd3eb1b0_0\n",
      "  msys2-conda-epoch-20160418-1\n",
      "  munch-2.5.0-pyhd3eb1b0_0\n",
      "  networkx-2.6.3-pyhd3eb1b0_0\n",
      "  openjpeg-2.4.0-h4fc8c34_0\n",
      "  proj-6.2.1-h3758d61_0\n",
      "  pyproj-2.6.1.post1-py39h593ac45_1\n",
      "  rtree-0.9.7-py39h2eaa2aa_1\n",
      "  scikit-learn-1.0.2-py39hf11a4ad_1\n",
      "  shapely-1.7.1-py39h06580b3_0\n",
      "  threadpoolctl-2.2.0-pyh0d69192_0\n",
      "  tiledb-2.2.9-hf7ce2e6_0\n",
      "  xerces-c-3.2.3-ha925a31_0\n",
      "\n",
      "\n",
      "Preparing transaction: ...working... done\n",
      "Verifying transaction: ...working... done\n",
      "Executing transaction: ...working... done\n",
      "\n",
      "Note: you may need to restart the kernel to use updated packages.\n"
     ]
    }
   ],
   "source": [
    "conda uninstall geopandas"
   ]
  },
  {
   "cell_type": "code",
   "execution_count": 10,
   "metadata": {},
   "outputs": [
    {
     "name": "stdout",
     "output_type": "stream",
     "text": [
      "\n",
      "Note: you may need to restart the kernel to use updated packages.\n"
     ]
    },
    {
     "name": "stderr",
     "output_type": "stream",
     "text": [
      "WARNING conda.gateways.disk.delete:unlink_or_rename_to_trash(143): Could not remove or rename C:\\Users\\poomk\\miniconda3\\envs\\dataenv\\Library\\share\\proj\\proj.db.  Please remove this file manually (you may need to reboot to free file handles)\n"
     ]
    }
   ],
   "source": [
    "conda install geopandas>=0.10"
   ]
  },
  {
   "cell_type": "code",
   "execution_count": null,
   "metadata": {},
   "outputs": [],
   "source": []
  }
 ],
 "metadata": {
  "interpreter": {
   "hash": "e54c7d2e4b3e9d36f918f3ac69044a3fb589bfddf483ce9ffb85b74096d1e814"
  },
  "kernelspec": {
   "display_name": "Python 3.9.5 ('quant')",
   "language": "python",
   "name": "python3"
  },
  "language_info": {
   "codemirror_mode": {
    "name": "ipython",
    "version": 3
   },
   "file_extension": ".py",
   "mimetype": "text/x-python",
   "name": "python",
   "nbconvert_exporter": "python",
   "pygments_lexer": "ipython3",
   "version": "3.9.5"
  },
  "orig_nbformat": 4
 },
 "nbformat": 4,
 "nbformat_minor": 2
}
